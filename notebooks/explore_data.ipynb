{
 "cells": [
  {
   "cell_type": "code",
   "execution_count": 1,
   "metadata": {},
   "outputs": [],
   "source": [
    "import os\n",
    "\n",
    "from PIL import Image\n",
    "import numpy as np"
   ]
  },
  {
   "cell_type": "code",
   "execution_count": 3,
   "metadata": {},
   "outputs": [],
   "source": [
    "annotations_path = \"../../data/pipeline/annotations/train\"\n",
    "\n",
    "annotations = os.listdir(annotations_path)\n",
    "annotations = [Image.open(os.path.join(annotations_path, annotation)) for annotation in annotations]\n",
    "annotations = [np.array(annotation) for annotation in annotations]"
   ]
  },
  {
   "cell_type": "code",
   "execution_count": 11,
   "metadata": {},
   "outputs": [
    {
     "name": "stdout",
     "output_type": "stream",
     "text": [
      "Background: 7055344170\n",
      "Pipeline: 529677750\n",
      "Background: 13.320068985340615\n"
     ]
    }
   ],
   "source": [
    "pieline = background = 0\n",
    "for ann in annotations:\n",
    "    background_pixels = np.sum(annotations[0] == 0)\n",
    "    pipeline_pixels = np.sum(annotations[0] == 1)\n",
    "    background += background_pixels\n",
    "    pieline += pipeline_pixels\n",
    "\n",
    "print(f\"Background: {background}\")\n",
    "print(f\"Pipeline: {pieline}\")\n",
    "\n",
    "print(f\"Background: {background / pieline}\")"
   ]
  }
 ],
 "metadata": {
  "kernelspec": {
   "display_name": "openmmlab",
   "language": "python",
   "name": "python3"
  },
  "language_info": {
   "codemirror_mode": {
    "name": "ipython",
    "version": 3
   },
   "file_extension": ".py",
   "mimetype": "text/x-python",
   "name": "python",
   "nbconvert_exporter": "python",
   "pygments_lexer": "ipython3",
   "version": "3.8.20"
  }
 },
 "nbformat": 4,
 "nbformat_minor": 2
}
