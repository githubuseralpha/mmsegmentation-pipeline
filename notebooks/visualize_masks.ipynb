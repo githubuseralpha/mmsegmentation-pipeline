{
 "cells": [
  {
   "cell_type": "code",
   "execution_count": 8,
   "metadata": {},
   "outputs": [
    {
     "data": {
      "image/png": "[encoded data removed]",
      "text/plain": [
       "<Figure size 640x480 with 1 Axes>"
      ]
     },
     "metadata": {},
     "output_type": "display_data"
    }
   ],
   "source": [
    "import matplotlib.pyplot as plt\n",
    "import matplotlib.image as mpimg\n",
    "\n",
    "import os\n",
    "import random\n",
    "\n",
    "path = '/workspace/new/masks'\n",
    "files = os.listdir(path)\n",
    "image_path = os.path.join(path, random.choice(files))\n",
    "# Load the image\n",
    "image = mpimg.imread(image_path)\n",
    "\n",
    "# Display the image\n",
    "plt.imshow(image)\n",
    "plt.axis('off')  # Hide the axis\n",
    "plt.show()"
   ]
  },
  {
   "cell_type": "code",
   "execution_count": 12,
   "metadata": {},
   "outputs": [],
   "source": [
    "pahts = [\"/workspace/new/train\", \"/workspace/new/test\", \"/workspace/new/valid\"]\n",
    "\n",
    "# copy images from paths to new folder\n",
    "\n",
    "import shutil\n",
    "\n",
    "os.makedirs('/workspace/new/images', exist_ok=True)\n",
    "for p in pahts:\n",
    "    files = os.listdir(p)\n",
    "    for f in files:\n",
    "        if \"_mask\" in f or \".json\" in f:\n",
    "            continue \n",
    "        shutil.copy(os.path.join(p, f), os.path.join('/workspace/new/images', f))"
   ]
  },
  {
   "cell_type": "code",
   "execution_count": 13,
   "metadata": {},
   "outputs": [],
   "source": [
    "sourec_dir = '/workspace/new/images'\n",
    "src_annotations_dir = '/workspace/new/masks'\n",
    "\n",
    "target_dir = '/workspace/data/pipeline/images/train'\n",
    "target_annotations_dir = '/workspace/data/pipeline/annotations/train'\n",
    "\n",
    "for f in os.listdir(sourec_dir):\n",
    "    shutil.copy(os.path.join(sourec_dir, f), os.path.join(target_dir, f))\n",
    "\n",
    "for f in os.listdir(src_annotations_dir):\n",
    "    shutil.copy(os.path.join(src_annotations_dir, f), os.path.join(target_annotations_dir, f))"
   ]
  },
  {
   "cell_type": "code",
   "execution_count": 1,
   "metadata": {},
   "outputs": [
    {
     "data": {
      "text/plain": [
       "False"
      ]
     },
     "execution_count": 1,
     "metadata": {},
     "output_type": "execute_result"
    }
   ],
   "source": [
    "import torch\n",
    "\n",
    "torch.cuda.is_available()   "
   ]
  }
 ],
 "metadata": {
  "kernelspec": {
   "display_name": "openmmlab",
   "language": "python",
   "name": "python3"
  },
  "language_info": {
   "codemirror_mode": {
    "name": "ipython",
    "version": 3
   },
   "file_extension": ".py",
   "mimetype": "text/x-python",
   "name": "python",
   "nbconvert_exporter": "python",
   "pygments_lexer": "ipython3",
   "version": "3.8.20"
  }
 },
 "nbformat": 4,
 "nbformat_minor": 2
}
