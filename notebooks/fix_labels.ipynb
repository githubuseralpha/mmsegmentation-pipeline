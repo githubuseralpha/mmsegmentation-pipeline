{
 "cells": [
  {
   "cell_type": "code",
   "execution_count": 18,
   "metadata": {},
   "outputs": [],
   "source": [
    "import os"
   ]
  },
  {
   "cell_type": "code",
   "execution_count": 19,
   "metadata": {},
   "outputs": [],
   "source": [
    "imgs_path = '/workspace/data/pipeline/images/train'\n",
    "masks_path = '/workspace/data/pipeline/annotations/train'"
   ]
  },
  {
   "cell_type": "code",
   "execution_count": 26,
   "metadata": {},
   "outputs": [],
   "source": [
    "# List all files in imgs_path and masks_path\n",
    "imgs_files = set(os.listdir(imgs_path))\n",
    "masks_files = set(os.listdir(masks_path))\n",
    "\n",
    "# Find images that are in imgs_path but not in masks_path\n",
    "imgs_not_in_masks = imgs_files - masks_files\n",
    "\n",
    "# Find images that are in masks_path but not in imgs_path\n",
    "masks_not_in_imgs = masks_files - imgs_files\n"
   ]
  },
  {
   "cell_type": "code",
   "execution_count": 27,
   "metadata": {},
   "outputs": [
    {
     "data": {
      "text/plain": [
       "(7221, 7221, 0, 0)"
      ]
     },
     "execution_count": 27,
     "metadata": {},
     "output_type": "execute_result"
    }
   ],
   "source": [
    "len(imgs_files), len(masks_files), len(imgs_not_in_masks), len(masks_not_in_imgs)"
   ]
  },
  {
   "cell_type": "code",
   "execution_count": 25,
   "metadata": {},
   "outputs": [],
   "source": [
    "# chanage all suffixes to .png\n",
    "from pathlib import Path\n",
    "masks_path = Path(masks_path)\n",
    "for file in masks_path.glob('*'):\n",
    "    file.rename(file.with_suffix('.png'))\n",
    "\n",
    "imgs_path = Path(imgs_path)\n",
    "for file in imgs_path.glob('*'):\n",
    "    file.rename(file.with_suffix('.png'))"
   ]
  }
 ],
 "metadata": {
  "kernelspec": {
   "display_name": "openmmlab",
   "language": "python",
   "name": "python3"
  },
  "language_info": {
   "codemirror_mode": {
    "name": "ipython",
    "version": 3
   },
   "file_extension": ".py",
   "mimetype": "text/x-python",
   "name": "python",
   "nbconvert_exporter": "python",
   "pygments_lexer": "ipython3",
   "version": "3.8.20"
  }
 },
 "nbformat": 4,
 "nbformat_minor": 2
}
